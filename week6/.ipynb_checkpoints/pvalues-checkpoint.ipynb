{
 "cells": [
  {
   "cell_type": "markdown",
   "metadata": {},
   "source": [
    "# PS3 Discussion: Significance & p-values"
   ]
  },
  {
   "cell_type": "markdown",
   "metadata": {},
   "source": [
    "Imagine we have a coin. **We flip it 10 times, and get 9 heads out of 10 flips.** \n",
    "\n",
    "That's weird, right? Why?\n",
    "\n",
    "So, we want to do an analysis: is the coin fair or biased towards heads? Let's use statistics to learn more about this."
   ]
  },
  {
   "cell_type": "markdown",
   "metadata": {},
   "source": [
    "## Quick Check 1:\n",
    "\n",
    "What is a reasonable null and alternative hypothesis? Type your answers into Ed. \n",
    "\n",
    "*Hint: what did we observe that was weird? What does that observation suggest about the coin?*"
   ]
  },
  {
   "cell_type": "markdown",
   "metadata": {},
   "source": [
    "*Type any notes you have here.*"
   ]
  },
  {
   "cell_type": "code",
   "execution_count": null,
   "metadata": {},
   "outputs": [],
   "source": [
    "# setting 1 to be heads, 0 to be tails for this coin\n",
    "coin <- c(0, 1)"
   ]
  },
  {
   "cell_type": "code",
   "execution_count": null,
   "metadata": {},
   "outputs": [],
   "source": [
    "# let's flipping this coin 10 times, 1000 times\n",
    "# this lets us get a good approximation of how likely it is\n",
    "# to get X heads out of 10 flips\n",
    "\n",
    "num_heads <- array()\n",
    "\n",
    "for(i in c(1:1000)){\n",
    "    heads <- sample(coin, 10, replace = TRUE)\n",
    "    num_heads[i] <- sum(heads) # finding the number of heads\n",
    "}"
   ]
  },
  {
   "cell_type": "code",
   "execution_count": null,
   "metadata": {},
   "outputs": [],
   "source": [
    "# This creates a histogram (distribution) of the outcomes\n",
    "# Y-axis: number of times we got this result; e.g. how likely it is to get this many heads\n",
    "# X-axis: number of heads out of 10 flips\n",
    "# red line: the observed number of heads when we flipped the coin, 9 heads\n",
    "hist(num_heads, breaks = c(0:11), col = \"gray\")\n",
    "abline(v = 9, col = \"red\", lwd = 3)"
   ]
  },
  {
   "cell_type": "markdown",
   "metadata": {},
   "source": [
    "**Before we calculate the p-value, what does the histogram above tell us about the hypotheses? Discuss with your neighbor.**\n",
    "\n",
    "Then, take a second to confirm your thoughts by calculating the p-value on your own. \n",
    "\n",
    "*Hint:* `num_heads` is a list of numbers of the potential outcomes of flipping a coin, assuming the coin was fair. More extreme, in this case, means greater than the observed value. You can use a Boolean comparison to calculate this!"
   ]
  },
  {
   "cell_type": "code",
   "execution_count": null,
   "metadata": {},
   "outputs": [],
   "source": [
    "# p-value: the probability of getting the observed result (9 heads) or something more extreme, under the null hypothesis\n",
    "# just run this cell; in practice, we'd just use difference_in_means\n",
    "sum(num_heads >= 9) / 1000"
   ]
  },
  {
   "cell_type": "markdown",
   "metadata": {},
   "source": [
    "## Quick Check 2: \n",
    "**Now, let's interpret the data.**\n",
    "\n",
    "What does that p-value mean in context?\n",
    "\n",
    "Is our null hypothesis a good explanation of the world? \n",
    "\n",
    "What does it tell you about the coin we have? Is it fair or unfair? \n",
    "\n",
    "Talk about this for a bit before we discuss as a class. Make sure you type your answers into Ed."
   ]
  },
  {
   "cell_type": "markdown",
   "metadata": {},
   "source": [
    "*Type your notes here.*"
   ]
  },
  {
   "cell_type": "markdown",
   "metadata": {},
   "source": [
    "This process of using p-values (and by association, t-scores/standard error) lets us account for the uncertainty caused by random chance (e.g. if we repeated the experiment many times, what are the various potential outcomes that could happen **under the null hypothesis**?). \n",
    "\n",
    "In practice, when we work with real data, we'll use the `difference_in_means` function to calculate the effect, t-score, standard error, and p-value. This exercise was simply to show the statistical intuition behind these processes!"
   ]
  },
  {
   "cell_type": "code",
   "execution_count": null,
   "metadata": {},
   "outputs": [],
   "source": []
  }
 ],
 "metadata": {
  "kernelspec": {
   "display_name": "R [conda env:r-psych]",
   "language": "R",
   "name": "conda-env-r-psych-r"
  },
  "language_info": {
   "codemirror_mode": "r",
   "file_extension": ".r",
   "mimetype": "text/x-r-source",
   "name": "R",
   "pygments_lexer": "r",
   "version": "3.6.1"
  }
 },
 "nbformat": 4,
 "nbformat_minor": 4
}
