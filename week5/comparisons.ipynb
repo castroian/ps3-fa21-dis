{
 "cells": [
  {
   "cell_type": "markdown",
   "metadata": {},
   "source": [
    "# Political Science 3 Discussion - 9/27\n",
    "\n",
    "Today, we'll look at some data from the Computer Science 61A course. CS61A is the large undergraduate introductory computing [course](https://cs61a.org/); the course offers free tutoring for its students, with CS hiring a large number of undergraduates to serve as peer group tutors.\n",
    "\n",
    "Knowing who participated in the tutoring program, Professor John DeNero wanted to know the effectiveness of tutors in one semester of the course. He took the midterm scores for all of the students in the course and noted if they participated in group tutoring (called `mentored` in the dataset).\n",
    "\n",
    "For this study, we care about **improvement**, not raw grades. The `difference` column captures this information, which is calculated as `MT2 - MT1`. \n",
    "\n",
    "**MT2 is notorious for being much more difficult than MT1,** so we will focus on the difference and compare the groups to control for the changes in difficulty on the exams."
   ]
  },
  {
   "cell_type": "code",
   "execution_count": null,
   "metadata": {},
   "outputs": [],
   "source": [
    "# Run this cell. \n",
    "library(estimatr)\n",
    "scores <- read.csv(\"../data/scores.csv\")\n",
    "head(scores)"
   ]
  },
  {
   "cell_type": "markdown",
   "metadata": {},
   "source": [
    "**Quick Check 1**\n",
    "\n",
    "Before we begin, we want to answer a few questions to set our analysis. **Answer these questions on Ed.**\n",
    "\n",
    "1) What column contains info about the treatment/control?\n",
    "\n",
    "2) Who is our baseline group?\n",
    "\n",
    "3) Who is the group that we will compare to the baseline?\n",
    "\n",
    "4) What is the dependent variable in this case?\n",
    "\n",
    "5) What is the independent variable?"
   ]
  },
  {
   "cell_type": "markdown",
   "metadata": {},
   "source": [
    "*Type your notes here.*"
   ]
  },
  {
   "cell_type": "markdown",
   "metadata": {},
   "source": [
    "Now that we have that information, we can make the following hypothesis:\n",
    "\n",
    "\"If a student receives tutoring, then they will do better on Midterm 2 versus their score on Midterm 1, compared to students who did not receive tutoring.\"\n",
    "\n",
    "**Quick Check 2**\n",
    "\n",
    "So, let's dive a little bit deeper then. There are two parts to this question -- again, answer on Ed. \n",
    "\n",
    "\n",
    "1) Our statistic is:\n",
    "\n",
    "`mean(difference for tutored students) - mean(difference for non-tutored students)`\n",
    "\n",
    "If tutoring worked, would we get a **positive number, negative number, or zero?**\n",
    "\n",
    "\n",
    "2) Before we do the analysis, let's assume that tutoring worked. \n",
    "\n",
    "**Why can't I exactly say that tutoring causes students to improve more on their midterms compared to students who are not tutored?**'\n"
   ]
  },
  {
   "cell_type": "markdown",
   "metadata": {},
   "source": [
    "*Type your notes here!*"
   ]
  },
  {
   "cell_type": "markdown",
   "metadata": {},
   "source": [
    "**Coding Question:**\n",
    "\n",
    "Use the `difference_in_means` function to figure out the the difference in means for (MT2-MT1) for tutored versus non-tutored students.\n",
    "\n",
    "Stuck? Use the R Cheat Sheet: https://bcourses.berkeley.edu/courses/1505753/pages/r-cheat-sheet "
   ]
  },
  {
   "cell_type": "code",
   "execution_count": null,
   "metadata": {},
   "outputs": [],
   "source": [
    "..."
   ]
  },
  {
   "cell_type": "markdown",
   "metadata": {},
   "source": [
    "So, what did we find? Talk to your neighbor about the numbers above before we discuss as a class. \n",
    "\n"
   ]
  },
  {
   "cell_type": "markdown",
   "metadata": {},
   "source": [
    "## If time -- quick example of uncertainty\n",
    "\n",
    "How did students in 61A do on Midterm 2? Since we have all of the data, I can just take the average of that column (we have all of the information, and this number is set). "
   ]
  },
  {
   "cell_type": "code",
   "execution_count": null,
   "metadata": {},
   "outputs": [],
   "source": [
    "mean(scores$MT2) # The average MT2 score was 62%"
   ]
  },
  {
   "cell_type": "markdown",
   "metadata": {},
   "source": [
    "Now, imagine that I could only ask 1 discussion's worth of students. I randomly sampled 30 students and asked them for their midterm score."
   ]
  },
  {
   "cell_type": "code",
   "execution_count": null,
   "metadata": {},
   "outputs": [],
   "source": [
    "our_sample <- scores[sample(1:nrow(scores), 30, replace = FALSE),] # sample 30 students without replacement\n",
    "mean(our_sample$MT2) # calculate their average score"
   ]
  },
  {
   "cell_type": "markdown",
   "metadata": {},
   "source": [
    "Notice the difference! If we did this 1000 times, what are all of the potential outcomes?"
   ]
  },
  {
   "cell_type": "code",
   "execution_count": null,
   "metadata": {},
   "outputs": [],
   "source": [
    "sample_means <- array()\n",
    "\n",
    "for(i in c(1:1000)){\n",
    "    new_sample <- scores[sample(1:nrow(scores), 30, replace = FALSE),] # sample 30 students without replacement\n",
    "    sample_means[i] <- mean(new_sample$MT2) # calculate their average score\n",
    "}"
   ]
  },
  {
   "cell_type": "code",
   "execution_count": null,
   "metadata": {},
   "outputs": [],
   "source": [
    "# Here's the range of outcomes we got with 1000 different samples:\n",
    "min(sample_means)\n",
    "max(sample_means)"
   ]
  },
  {
   "cell_type": "code",
   "execution_count": null,
   "metadata": {},
   "outputs": [],
   "source": [
    "# In a graphical format\n",
    "hist(sample_means)\n",
    "abline(v = mean(scores$MT2), col = \"red\", lwd = 3)"
   ]
  },
  {
   "cell_type": "code",
   "execution_count": null,
   "metadata": {},
   "outputs": [],
   "source": []
  }
 ],
 "metadata": {
  "kernelspec": {
   "display_name": "R",
   "language": "R",
   "name": "ir"
  },
  "language_info": {
   "codemirror_mode": "r",
   "file_extension": ".r",
   "mimetype": "text/x-r-source",
   "name": "R",
   "pygments_lexer": "r",
   "version": "3.6.1"
  }
 },
 "nbformat": 4,
 "nbformat_minor": 4
}
