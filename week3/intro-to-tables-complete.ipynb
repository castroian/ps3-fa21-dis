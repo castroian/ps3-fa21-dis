{
 "cells": [
  {
   "cell_type": "markdown",
   "metadata": {},
   "source": [
    "# Reviewing Tables in R\n",
    "## Political Science 3 Discussion (9/13) - Ian Castro\n",
    "\n",
    "Today, we will play around with data in R. We can work with data"
   ]
  },
  {
   "cell_type": "code",
   "execution_count": 25,
   "metadata": {},
   "outputs": [
    {
     "data": {
      "text/html": [
       "<table>\n",
       "<thead><tr><th scope=col>Sepal.Length</th><th scope=col>Sepal.Width</th><th scope=col>Petal.Length</th><th scope=col>Petal.Width</th><th scope=col>Species</th><th scope=col>setosa</th><th scope=col>virginica</th><th scope=col>versicolor</th></tr></thead>\n",
       "<tbody>\n",
       "\t<tr><td>5.1   </td><td>3.5   </td><td>1.4   </td><td>0.2   </td><td>setosa</td><td>1     </td><td>0     </td><td>0     </td></tr>\n",
       "\t<tr><td>4.9   </td><td>3.0   </td><td>1.4   </td><td>0.2   </td><td>setosa</td><td>1     </td><td>0     </td><td>0     </td></tr>\n",
       "\t<tr><td>4.7   </td><td>3.2   </td><td>1.3   </td><td>0.2   </td><td>setosa</td><td>1     </td><td>0     </td><td>0     </td></tr>\n",
       "\t<tr><td>4.6   </td><td>3.1   </td><td>1.5   </td><td>0.2   </td><td>setosa</td><td>1     </td><td>0     </td><td>0     </td></tr>\n",
       "\t<tr><td>5.0   </td><td>3.6   </td><td>1.4   </td><td>0.2   </td><td>setosa</td><td>1     </td><td>0     </td><td>0     </td></tr>\n",
       "\t<tr><td>5.4   </td><td>3.9   </td><td>1.7   </td><td>0.4   </td><td>setosa</td><td>1     </td><td>0     </td><td>0     </td></tr>\n",
       "</tbody>\n",
       "</table>\n"
      ],
      "text/latex": [
       "\\begin{tabular}{r|llllllll}\n",
       " Sepal.Length & Sepal.Width & Petal.Length & Petal.Width & Species & setosa & virginica & versicolor\\\\\n",
       "\\hline\n",
       "\t 5.1    & 3.5    & 1.4    & 0.2    & setosa & 1      & 0      & 0     \\\\\n",
       "\t 4.9    & 3.0    & 1.4    & 0.2    & setosa & 1      & 0      & 0     \\\\\n",
       "\t 4.7    & 3.2    & 1.3    & 0.2    & setosa & 1      & 0      & 0     \\\\\n",
       "\t 4.6    & 3.1    & 1.5    & 0.2    & setosa & 1      & 0      & 0     \\\\\n",
       "\t 5.0    & 3.6    & 1.4    & 0.2    & setosa & 1      & 0      & 0     \\\\\n",
       "\t 5.4    & 3.9    & 1.7    & 0.4    & setosa & 1      & 0      & 0     \\\\\n",
       "\\end{tabular}\n"
      ],
      "text/markdown": [
       "\n",
       "| Sepal.Length | Sepal.Width | Petal.Length | Petal.Width | Species | setosa | virginica | versicolor |\n",
       "|---|---|---|---|---|---|---|---|\n",
       "| 5.1    | 3.5    | 1.4    | 0.2    | setosa | 1      | 0      | 0      |\n",
       "| 4.9    | 3.0    | 1.4    | 0.2    | setosa | 1      | 0      | 0      |\n",
       "| 4.7    | 3.2    | 1.3    | 0.2    | setosa | 1      | 0      | 0      |\n",
       "| 4.6    | 3.1    | 1.5    | 0.2    | setosa | 1      | 0      | 0      |\n",
       "| 5.0    | 3.6    | 1.4    | 0.2    | setosa | 1      | 0      | 0      |\n",
       "| 5.4    | 3.9    | 1.7    | 0.4    | setosa | 1      | 0      | 0      |\n",
       "\n"
      ],
      "text/plain": [
       "  Sepal.Length Sepal.Width Petal.Length Petal.Width Species setosa virginica\n",
       "1 5.1          3.5         1.4          0.2         setosa  1      0        \n",
       "2 4.9          3.0         1.4          0.2         setosa  1      0        \n",
       "3 4.7          3.2         1.3          0.2         setosa  1      0        \n",
       "4 4.6          3.1         1.5          0.2         setosa  1      0        \n",
       "5 5.0          3.6         1.4          0.2         setosa  1      0        \n",
       "6 5.4          3.9         1.7          0.4         setosa  1      0        \n",
       "  versicolor\n",
       "1 0         \n",
       "2 0         \n",
       "3 0         \n",
       "4 0         \n",
       "5 0         \n",
       "6 0         "
      ]
     },
     "metadata": {},
     "output_type": "display_data"
    }
   ],
   "source": [
    "# We'll be looking at data about Iris flowers \n",
    "# Run this cell! Ignore what I'm doing below. \n",
    "\n",
    "iris$setosa <- ifelse(iris$Species == \"setosa\", 1, 0) # Making dummy variables\n",
    "iris$versicolor <- ifelse(iris$Species == \"versicolor\", 1, 0)\n",
    "iris$virginica <- ifelse(iris$Species == \"virginica\", 1, 0)\n",
    "\n",
    "head(iris)"
   ]
  },
  {
   "cell_type": "code",
   "execution_count": 29,
   "metadata": {},
   "outputs": [
    {
     "data": {
      "text/html": [
       "<ol class=list-inline>\n",
       "\t<li>5.1</li>\n",
       "\t<li>4.9</li>\n",
       "\t<li>4.7</li>\n",
       "\t<li>4.6</li>\n",
       "\t<li>5</li>\n",
       "\t<li>5.4</li>\n",
       "</ol>\n"
      ],
      "text/latex": [
       "\\begin{enumerate*}\n",
       "\\item 5.1\n",
       "\\item 4.9\n",
       "\\item 4.7\n",
       "\\item 4.6\n",
       "\\item 5\n",
       "\\item 5.4\n",
       "\\end{enumerate*}\n"
      ],
      "text/markdown": [
       "1. 5.1\n",
       "2. 4.9\n",
       "3. 4.7\n",
       "4. 4.6\n",
       "5. 5\n",
       "6. 5.4\n",
       "\n",
       "\n"
      ],
      "text/plain": [
       "[1] 5.1 4.9 4.7 4.6 5.0 5.4"
      ]
     },
     "metadata": {},
     "output_type": "display_data"
    }
   ],
   "source": [
    "# Remember we can get values in a column by using $\n",
    "head(iris$Sepal.Length) \n",
    "# I'm using the head function to only show the first few values\n",
    "# instead of all 150+"
   ]
  },
  {
   "cell_type": "code",
   "execution_count": 31,
   "metadata": {},
   "outputs": [
    {
     "data": {
      "text/html": [
       "4.35"
      ],
      "text/latex": [
       "4.35"
      ],
      "text/markdown": [
       "4.35"
      ],
      "text/plain": [
       "[1] 4.35"
      ]
     },
     "metadata": {},
     "output_type": "display_data"
    }
   ],
   "source": [
    "# Remember, we can also give things names and reference that name\n",
    "# For example -- what's the median petal length for all flowers in the dataset?\n",
    "all_petal_lengths <- iris$Petal.Length\n",
    "median(all_petal_lengths)"
   ]
  },
  {
   "cell_type": "markdown",
   "metadata": {},
   "source": [
    "## Quick Check 1\n",
    "\n",
    "Using the dummy variable columns, find the proportion of flowers in the dataset that are either the species `Iris setosa` or `Iris versicolor`. Save that value as the name `s_v_prop`."
   ]
  },
  {
   "cell_type": "code",
   "execution_count": 32,
   "metadata": {},
   "outputs": [
    {
     "ename": "ERROR",
     "evalue": "Error in eval(expr, envir, enclos): '...' used in an incorrect context\n",
     "output_type": "error",
     "traceback": [
      "Error in eval(expr, envir, enclos): '...' used in an incorrect context\nTraceback:\n"
     ]
    }
   ],
   "source": [
    "# Use as many lines as you need!\n",
    "\n",
    "s_v_prop <- ...\n",
    "s_v_prop # Tell R to print the value"
   ]
  },
  {
   "cell_type": "markdown",
   "metadata": {},
   "source": [
    "## Subsetting\n",
    "\n",
    "Let's focus on only the `Iris virginica` flowers in the dataset. We can do this by using the `subset` function, which takes the following arguments:\n",
    "\n",
    "`subset(table, column_logical)`\n",
    "\n",
    "A logical in R is the same thing as a Boolean in Python. In other words, it is a value (or set of values) that is either `TRUE` or `FALSE`. You can also think of them as 1 and 0.\n",
    "\n",
    "We can get these by doing something called a Boolean comparison, where we compare a value to another, and if that condition is True, it will return `TRUE`. Here are some common comparisons:\n",
    "\n",
    "| Logical Operator | R Code |\n",
    "| - | - |\n",
    "| does x equal y? | x == y |\n",
    "| does x NOT equal y? | x != y |\n",
    "| is x less than y? | x < y |\n",
    "| is x greater than y? | x > y |\n",
    "| is x less than or equal to y? | x <= y |\n",
    "| is x greater than or equal to y? | x >= y |\n"
   ]
  },
  {
   "cell_type": "code",
   "execution_count": 37,
   "metadata": {},
   "outputs": [
    {
     "data": {
      "text/html": [
       "FALSE"
      ],
      "text/latex": [
       "FALSE"
      ],
      "text/markdown": [
       "FALSE"
      ],
      "text/plain": [
       "[1] FALSE"
      ]
     },
     "metadata": {},
     "output_type": "display_data"
    },
    {
     "data": {
      "text/html": [
       "TRUE"
      ],
      "text/latex": [
       "TRUE"
      ],
      "text/markdown": [
       "TRUE"
      ],
      "text/plain": [
       "[1] TRUE"
      ]
     },
     "metadata": {},
     "output_type": "display_data"
    }
   ],
   "source": [
    "# Logical example in R\n",
    "x <- 5\n",
    "y <- 10\n",
    "\n",
    "x == y\n",
    "x < y"
   ]
  },
  {
   "cell_type": "code",
   "execution_count": 39,
   "metadata": {},
   "outputs": [
    {
     "data": {
      "text/html": [
       "<table>\n",
       "<thead><tr><th></th><th scope=col>Sepal.Length</th><th scope=col>Sepal.Width</th><th scope=col>Petal.Length</th><th scope=col>Petal.Width</th><th scope=col>Species</th><th scope=col>setosa</th><th scope=col>virginica</th><th scope=col>versicolor</th></tr></thead>\n",
       "<tbody>\n",
       "\t<tr><th scope=row>101</th><td>6.3      </td><td>3.3      </td><td>6.0      </td><td>2.5      </td><td>virginica</td><td>0        </td><td>1        </td><td>0        </td></tr>\n",
       "\t<tr><th scope=row>102</th><td>5.8      </td><td>2.7      </td><td>5.1      </td><td>1.9      </td><td>virginica</td><td>0        </td><td>1        </td><td>0        </td></tr>\n",
       "\t<tr><th scope=row>103</th><td>7.1      </td><td>3.0      </td><td>5.9      </td><td>2.1      </td><td>virginica</td><td>0        </td><td>1        </td><td>0        </td></tr>\n",
       "\t<tr><th scope=row>104</th><td>6.3      </td><td>2.9      </td><td>5.6      </td><td>1.8      </td><td>virginica</td><td>0        </td><td>1        </td><td>0        </td></tr>\n",
       "\t<tr><th scope=row>105</th><td>6.5      </td><td>3.0      </td><td>5.8      </td><td>2.2      </td><td>virginica</td><td>0        </td><td>1        </td><td>0        </td></tr>\n",
       "\t<tr><th scope=row>106</th><td>7.6      </td><td>3.0      </td><td>6.6      </td><td>2.1      </td><td>virginica</td><td>0        </td><td>1        </td><td>0        </td></tr>\n",
       "</tbody>\n",
       "</table>\n"
      ],
      "text/latex": [
       "\\begin{tabular}{r|llllllll}\n",
       "  & Sepal.Length & Sepal.Width & Petal.Length & Petal.Width & Species & setosa & virginica & versicolor\\\\\n",
       "\\hline\n",
       "\t101 & 6.3       & 3.3       & 6.0       & 2.5       & virginica & 0         & 1         & 0        \\\\\n",
       "\t102 & 5.8       & 2.7       & 5.1       & 1.9       & virginica & 0         & 1         & 0        \\\\\n",
       "\t103 & 7.1       & 3.0       & 5.9       & 2.1       & virginica & 0         & 1         & 0        \\\\\n",
       "\t104 & 6.3       & 2.9       & 5.6       & 1.8       & virginica & 0         & 1         & 0        \\\\\n",
       "\t105 & 6.5       & 3.0       & 5.8       & 2.2       & virginica & 0         & 1         & 0        \\\\\n",
       "\t106 & 7.6       & 3.0       & 6.6       & 2.1       & virginica & 0         & 1         & 0        \\\\\n",
       "\\end{tabular}\n"
      ],
      "text/markdown": [
       "\n",
       "| <!--/--> | Sepal.Length | Sepal.Width | Petal.Length | Petal.Width | Species | setosa | virginica | versicolor |\n",
       "|---|---|---|---|---|---|---|---|---|\n",
       "| 101 | 6.3       | 3.3       | 6.0       | 2.5       | virginica | 0         | 1         | 0         |\n",
       "| 102 | 5.8       | 2.7       | 5.1       | 1.9       | virginica | 0         | 1         | 0         |\n",
       "| 103 | 7.1       | 3.0       | 5.9       | 2.1       | virginica | 0         | 1         | 0         |\n",
       "| 104 | 6.3       | 2.9       | 5.6       | 1.8       | virginica | 0         | 1         | 0         |\n",
       "| 105 | 6.5       | 3.0       | 5.8       | 2.2       | virginica | 0         | 1         | 0         |\n",
       "| 106 | 7.6       | 3.0       | 6.6       | 2.1       | virginica | 0         | 1         | 0         |\n",
       "\n"
      ],
      "text/plain": [
       "    Sepal.Length Sepal.Width Petal.Length Petal.Width Species   setosa\n",
       "101 6.3          3.3         6.0          2.5         virginica 0     \n",
       "102 5.8          2.7         5.1          1.9         virginica 0     \n",
       "103 7.1          3.0         5.9          2.1         virginica 0     \n",
       "104 6.3          2.9         5.6          1.8         virginica 0     \n",
       "105 6.5          3.0         5.8          2.2         virginica 0     \n",
       "106 7.6          3.0         6.6          2.1         virginica 0     \n",
       "    virginica versicolor\n",
       "101 1         0         \n",
       "102 1         0         \n",
       "103 1         0         \n",
       "104 1         0         \n",
       "105 1         0         \n",
       "106 1         0         "
      ]
     },
     "metadata": {},
     "output_type": "display_data"
    }
   ],
   "source": [
    "# Let's practice using this to subset:\n",
    "# subset(table, column_name <comparison> <value>)\n",
    "virginica <- subset(iris, virginica == 1)\n",
    "head(virginica)"
   ]
  },
  {
   "cell_type": "code",
   "execution_count": null,
   "metadata": {},
   "outputs": [],
   "source": [
    "# Not a quick check, but good practice:\n",
    "# How can we get the virginica flowers using a different column?\n",
    "subset(..., ...)"
   ]
  },
  {
   "cell_type": "markdown",
   "metadata": {},
   "source": [
    "## Quick Check 2:\n",
    "\n",
    "Using the `subset` function and some other R code, create a table that only has rows of Iris setosa flowers that have a sepal length smaller than the mean sepal length of ALL virginica flowers. Call this new table `small_setosas`.\n",
    "\n",
    "*Hint:* You should use the `virginica` table to help find the mean sepal length of Iris virginica flowers."
   ]
  },
  {
   "cell_type": "code",
   "execution_count": 44,
   "metadata": {},
   "outputs": [
    {
     "data": {
      "text/html": [
       "<table>\n",
       "<thead><tr><th scope=col>Sepal.Length</th><th scope=col>Sepal.Width</th><th scope=col>Petal.Length</th><th scope=col>Petal.Width</th><th scope=col>Species</th><th scope=col>setosa</th><th scope=col>virginica</th><th scope=col>versicolor</th></tr></thead>\n",
       "<tbody>\n",
       "\t<tr><td>5.1   </td><td>3.5   </td><td>1.4   </td><td>0.2   </td><td>setosa</td><td>1     </td><td>0     </td><td>0     </td></tr>\n",
       "\t<tr><td>4.9   </td><td>3.0   </td><td>1.4   </td><td>0.2   </td><td>setosa</td><td>1     </td><td>0     </td><td>0     </td></tr>\n",
       "\t<tr><td>4.7   </td><td>3.2   </td><td>1.3   </td><td>0.2   </td><td>setosa</td><td>1     </td><td>0     </td><td>0     </td></tr>\n",
       "\t<tr><td>4.6   </td><td>3.1   </td><td>1.5   </td><td>0.2   </td><td>setosa</td><td>1     </td><td>0     </td><td>0     </td></tr>\n",
       "\t<tr><td>5.0   </td><td>3.6   </td><td>1.4   </td><td>0.2   </td><td>setosa</td><td>1     </td><td>0     </td><td>0     </td></tr>\n",
       "\t<tr><td>5.4   </td><td>3.9   </td><td>1.7   </td><td>0.4   </td><td>setosa</td><td>1     </td><td>0     </td><td>0     </td></tr>\n",
       "</tbody>\n",
       "</table>\n"
      ],
      "text/latex": [
       "\\begin{tabular}{r|llllllll}\n",
       " Sepal.Length & Sepal.Width & Petal.Length & Petal.Width & Species & setosa & virginica & versicolor\\\\\n",
       "\\hline\n",
       "\t 5.1    & 3.5    & 1.4    & 0.2    & setosa & 1      & 0      & 0     \\\\\n",
       "\t 4.9    & 3.0    & 1.4    & 0.2    & setosa & 1      & 0      & 0     \\\\\n",
       "\t 4.7    & 3.2    & 1.3    & 0.2    & setosa & 1      & 0      & 0     \\\\\n",
       "\t 4.6    & 3.1    & 1.5    & 0.2    & setosa & 1      & 0      & 0     \\\\\n",
       "\t 5.0    & 3.6    & 1.4    & 0.2    & setosa & 1      & 0      & 0     \\\\\n",
       "\t 5.4    & 3.9    & 1.7    & 0.4    & setosa & 1      & 0      & 0     \\\\\n",
       "\\end{tabular}\n"
      ],
      "text/markdown": [
       "\n",
       "| Sepal.Length | Sepal.Width | Petal.Length | Petal.Width | Species | setosa | virginica | versicolor |\n",
       "|---|---|---|---|---|---|---|---|\n",
       "| 5.1    | 3.5    | 1.4    | 0.2    | setosa | 1      | 0      | 0      |\n",
       "| 4.9    | 3.0    | 1.4    | 0.2    | setosa | 1      | 0      | 0      |\n",
       "| 4.7    | 3.2    | 1.3    | 0.2    | setosa | 1      | 0      | 0      |\n",
       "| 4.6    | 3.1    | 1.5    | 0.2    | setosa | 1      | 0      | 0      |\n",
       "| 5.0    | 3.6    | 1.4    | 0.2    | setosa | 1      | 0      | 0      |\n",
       "| 5.4    | 3.9    | 1.7    | 0.4    | setosa | 1      | 0      | 0      |\n",
       "\n"
      ],
      "text/plain": [
       "  Sepal.Length Sepal.Width Petal.Length Petal.Width Species setosa virginica\n",
       "1 5.1          3.5         1.4          0.2         setosa  1      0        \n",
       "2 4.9          3.0         1.4          0.2         setosa  1      0        \n",
       "3 4.7          3.2         1.3          0.2         setosa  1      0        \n",
       "4 4.6          3.1         1.5          0.2         setosa  1      0        \n",
       "5 5.0          3.6         1.4          0.2         setosa  1      0        \n",
       "6 5.4          3.9         1.7          0.4         setosa  1      0        \n",
       "  versicolor\n",
       "1 0         \n",
       "2 0         \n",
       "3 0         \n",
       "4 0         \n",
       "5 0         \n",
       "6 0         "
      ]
     },
     "metadata": {},
     "output_type": "display_data"
    }
   ],
   "source": [
    "avg_virginica_sepal_length <- mean(virginica$Sepal.Length)\n",
    "setosa <- subset(iris, setosa == 1)\n",
    "small_setosas <- subset(setosa, Sepal.Length < avg_virginica_sepal_length)\n",
    "\n",
    "head(small_setosas)"
   ]
  },
  {
   "cell_type": "markdown",
   "metadata": {},
   "source": [
    "## One-way tables\n",
    "\n",
    "We can use the `table` function to create one and two way tables. One and two way tables are used to summarize the counts of each category in a table. To use the `table` function, just plug in the column that we want to check.\n",
    "\n",
    "| One way | Two way |\n",
    "| - | - | \n",
    "| table(data\\$var1) | table(data\\\\$var1, data\\$var2) |"
   ]
  },
  {
   "cell_type": "code",
   "execution_count": 47,
   "metadata": {},
   "outputs": [
    {
     "data": {
      "text/plain": [
       "\n",
       "    setosa versicolor  virginica \n",
       "        50         50         50 "
      ]
     },
     "metadata": {},
     "output_type": "display_data"
    }
   ],
   "source": [
    "# Let's see how many flowers are in each category!\n",
    "table(iris$Species)"
   ]
  }
 ],
 "metadata": {
  "kernelspec": {
   "display_name": "R",
   "language": "R",
   "name": "ir"
  },
  "language_info": {
   "codemirror_mode": "r",
   "file_extension": ".r",
   "mimetype": "text/x-r-source",
   "name": "R",
   "pygments_lexer": "r",
   "version": "3.6.1"
  }
 },
 "nbformat": 4,
 "nbformat_minor": 4
}
