{
 "cells": [
  {
   "cell_type": "markdown",
   "metadata": {},
   "source": [
    "# Reviewing Tables in R\n",
    "## Political Science 3 Discussion (9/13) - Ian Castro\n",
    "\n",
    "Today, we will play around with data in R. We can work with data"
   ]
  },
  {
   "cell_type": "code",
   "execution_count": null,
   "metadata": {},
   "outputs": [],
   "source": [
    "# We'll be looking at data about Iris flowers \n",
    "# Run this cell! Ignore what I'm doing below. \n",
    "\n",
    "iris$setosa <- ifelse(iris$Species == \"setosa\", 1, 0) # Making dummy variables\n",
    "iris$versicolor <- ifelse(iris$Species == \"versicolor\", 1, 0)\n",
    "iris$virginica <- ifelse(iris$Species == \"virginica\", 1, 0)\n",
    "\n",
    "head(iris)"
   ]
  },
  {
   "cell_type": "code",
   "execution_count": null,
   "metadata": {},
   "outputs": [],
   "source": [
    "# Remember we can get values in a column by using $\n",
    "head(iris$Sepal.Length) \n",
    "# I'm using the head function to only show the first few values\n",
    "# instead of all 150+"
   ]
  },
  {
   "cell_type": "code",
   "execution_count": null,
   "metadata": {},
   "outputs": [],
   "source": [
    "# Remember, we can also give things names and reference that name\n",
    "# For example -- what's the median petal length for all flowers in the dataset?\n",
    "all_petal_lengths <- iris$Petal.Length\n",
    "median(all_petal_lengths)"
   ]
  },
  {
   "cell_type": "markdown",
   "metadata": {},
   "source": [
    "## Quick Check 1\n",
    "\n",
    "Using the dummy variable columns, find the proportion of flowers in the dataset that are either the species `Iris setosa` or `Iris versicolor`. Save that value as the name `s_v_prop`."
   ]
  },
  {
   "cell_type": "code",
   "execution_count": null,
   "metadata": {},
   "outputs": [],
   "source": [
    "# Use as many lines as you need!\n",
    "\n",
    "s_v_prop <- ...\n",
    "s_v_prop # Tell R to print the value"
   ]
  },
  {
   "cell_type": "markdown",
   "metadata": {},
   "source": [
    "## Subsetting\n",
    "\n",
    "Let's focus on only the `Iris virginica` flowers in the dataset. We can do this by using the `subset` function, which takes the following arguments:\n",
    "\n",
    "`subset(table, column_logical)`\n",
    "\n",
    "A logical in R is the same thing as a Boolean in Python. In other words, it is a value (or set of values) that is either `TRUE` or `FALSE`. You can also think of them as 1 and 0.\n",
    "\n",
    "We can get these by doing something called a Boolean comparison, where we compare a value to another, and if that condition is True, it will return `TRUE`. Here are some common comparisons:\n",
    "\n",
    "| Logical Operator | R Code |\n",
    "| - | - |\n",
    "| does x equal y? | x == y |\n",
    "| does x NOT equal y? | x != y |\n",
    "| is x less than y? | x < y |\n",
    "| is x greater than y? | x > y |\n",
    "| is x less than or equal to y? | x <= y |\n",
    "| is x greater than or equal to y? | x >= y |\n"
   ]
  },
  {
   "cell_type": "code",
   "execution_count": null,
   "metadata": {},
   "outputs": [],
   "source": [
    "# Logical example in R\n",
    "x <- 5\n",
    "y <- 10\n",
    "\n",
    "x == y\n",
    "x < y"
   ]
  },
  {
   "cell_type": "code",
   "execution_count": null,
   "metadata": {},
   "outputs": [],
   "source": [
    "# Let's practice using this to subset:\n",
    "# subset(table, column_name <comparison> <value>)\n",
    "virginica <- subset(iris, virginica == 1)\n",
    "head(virginica)"
   ]
  },
  {
   "cell_type": "code",
   "execution_count": null,
   "metadata": {},
   "outputs": [],
   "source": [
    "# Not a quick check, but good practice:\n",
    "# How can we get the virginica flowers using a different column?\n",
    "subset(..., ...)"
   ]
  },
  {
   "cell_type": "markdown",
   "metadata": {},
   "source": [
    "## Quick Check 2:\n",
    "\n",
    "Using the `subset` function and some other R code, create a table that only has rows of Iris setosa flowers that have a sepal length smaller than the mean sepal length of ALL virginica flowers. Call this new table `small_setosas`.\n",
    "\n",
    "*Hint:* You should use the `virginica` table to help find the mean sepal length of Iris virginica flowers."
   ]
  },
  {
   "cell_type": "code",
   "execution_count": null,
   "metadata": {},
   "outputs": [],
   "source": [
    "avg_virginica_sepal_length <- ...\n",
    "setosa <- ...\n",
    "small_setosas <- ...\n",
    "\n",
    "head(small_setosas)"
   ]
  },
  {
   "cell_type": "markdown",
   "metadata": {},
   "source": [
    "## One-way tables\n",
    "\n",
    "We can use the `table` function to create one and two way tables. One and two way tables are used to summarize the counts of each category in a table. To use the `table` function, just plug in the column that we want to check.\n",
    "\n",
    "| One way | Two way |\n",
    "| - | - | \n",
    "| table(data\\$var1) | table(data\\\\$var1, data\\$var2) |"
   ]
  },
  {
   "cell_type": "code",
   "execution_count": null,
   "metadata": {},
   "outputs": [],
   "source": [
    "# Let's see how many flowers are in each category!\n",
    "table(iris$Species)"
   ]
  }
 ],
 "metadata": {
  "kernelspec": {
   "display_name": "R",
   "language": "R",
   "name": "ir"
  },
  "language_info": {
   "codemirror_mode": "r",
   "file_extension": ".r",
   "mimetype": "text/x-r-source",
   "name": "R",
   "pygments_lexer": "r",
   "version": "3.6.1"
  }
 },
 "nbformat": 4,
 "nbformat_minor": 4
}
