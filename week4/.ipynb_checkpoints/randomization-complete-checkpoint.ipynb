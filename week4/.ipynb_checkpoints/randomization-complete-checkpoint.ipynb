{
 "cells": [
  {
   "cell_type": "markdown",
   "metadata": {},
   "source": [
    "## PS3 Discussion: Randomization and Experiments\n",
    "\n",
    "In this notebook, we will analyze some data from Arman Catterson's Psych 101 course, where they went over the psychological phenomenon of \"anchoring.\" According to Wikipedia: \"Anchoring is a cognitive bias whereby an individual's decisions are influenced by a particular reference point or anchor.\"\n",
    "\n",
    "In this case, students guessed the maximum speed of a house cat in miles per hour. In one condition, the \"high\" condition, students were prompted with the message \n",
    "\n",
    "\"Is the maximum speed of an average house cat FASTER or SLOWER than **3** miles per hour?\"\n",
    "\n",
    "In the other condition, the \"low\" condition, students were prompted with\n",
    "\n",
    "\"Is the maximum speed of an average house cat FASTER or SLOWER than **40** miles per hour?\"\n",
    "\n",
    "The student then had to provide an estimate for the speed of a house cat. We want to learn: did the anchoring have an effect on students' estimates? Let's assume that students were randomly assigned to each group.\n",
    "\n",
    "-------\n",
    "\n",
    "**Data Dictionary/Codebook**\n",
    "\n",
    "`cat`: estimated speed in mph\n",
    "\n",
    "`before`: 1 = student knew the exercise beforehand, 0 = student did not know\n",
    "\n",
    "`live.cats`: 1 = student lives with cats, 0 = student does not live with cats\n",
    "\n",
    "`cond`: 1 = student was exposed to the \"high\" condition (40 mph), 0 = student was exposed to the \"low\" condition (3 mph)"
   ]
  },
  {
   "cell_type": "code",
   "execution_count": 1,
   "metadata": {},
   "outputs": [
    {
     "data": {
      "text/html": [
       "<table>\n",
       "<thead><tr><th scope=col>cat</th><th scope=col>before</th><th scope=col>live.cats</th><th scope=col>cond</th></tr></thead>\n",
       "<tbody>\n",
       "\t<tr><td> 2</td><td>0 </td><td>0 </td><td>0 </td></tr>\n",
       "\t<tr><td> 1</td><td>0 </td><td>0 </td><td>1 </td></tr>\n",
       "\t<tr><td>30</td><td>0 </td><td>0 </td><td>1 </td></tr>\n",
       "\t<tr><td>25</td><td>0 </td><td>0 </td><td>1 </td></tr>\n",
       "\t<tr><td>17</td><td>0 </td><td>0 </td><td>0 </td></tr>\n",
       "\t<tr><td>50</td><td>0 </td><td>0 </td><td>1 </td></tr>\n",
       "</tbody>\n",
       "</table>\n"
      ],
      "text/latex": [
       "\\begin{tabular}{r|llll}\n",
       " cat & before & live.cats & cond\\\\\n",
       "\\hline\n",
       "\t  2 & 0  & 0  & 0 \\\\\n",
       "\t  1 & 0  & 0  & 1 \\\\\n",
       "\t 30 & 0  & 0  & 1 \\\\\n",
       "\t 25 & 0  & 0  & 1 \\\\\n",
       "\t 17 & 0  & 0  & 0 \\\\\n",
       "\t 50 & 0  & 0  & 1 \\\\\n",
       "\\end{tabular}\n"
      ],
      "text/markdown": [
       "\n",
       "| cat | before | live.cats | cond |\n",
       "|---|---|---|---|\n",
       "|  2 | 0  | 0  | 0  |\n",
       "|  1 | 0  | 0  | 1  |\n",
       "| 30 | 0  | 0  | 1  |\n",
       "| 25 | 0  | 0  | 1  |\n",
       "| 17 | 0  | 0  | 0  |\n",
       "| 50 | 0  | 0  | 1  |\n",
       "\n"
      ],
      "text/plain": [
       "  cat before live.cats cond\n",
       "1  2  0      0         0   \n",
       "2  1  0      0         1   \n",
       "3 30  0      0         1   \n",
       "4 25  0      0         1   \n",
       "5 17  0      0         0   \n",
       "6 50  0      0         1   "
      ]
     },
     "metadata": {},
     "output_type": "display_data"
    }
   ],
   "source": [
    "# Run this cell to read in the data.\n",
    "anchor <- read.csv(\"../data/anchoring_data_FA20.csv\")\n",
    "head(anchor)"
   ]
  },
  {
   "cell_type": "markdown",
   "metadata": {},
   "source": [
    "## Quick Check 1:\n",
    "\n",
    "What are the potential outcomes for this experiment? Talk with your neighbors for a few minutes about this.\n",
    "\n",
    "(**Note:** We do NOT necessarily have a control group in this study. In a perfect study, we would have ALSO asked a third group of people to answer the question \"What is the maximum speed of an average house cat\", without an anchor, but we don't have that data in this case.)\n",
    "\n",
    "**Once you have an idea, go to Ed, move to Quick Check 1 and type in the potential outcomes for the \"high\" treatment in this experiment.**"
   ]
  },
  {
   "cell_type": "markdown",
   "metadata": {},
   "source": [
    "*Type any notes here.*"
   ]
  },
  {
   "cell_type": "markdown",
   "metadata": {},
   "source": [
    "Great!\n",
    "\n",
    "Now, before we begin, let's \"clean\" the dataset. In this case, we want to remove some potentially problematic variables; we do NOT want to study people who (1) know about the goal of the experiment or (2) have lived with a cat, since they'll be more knowledgeable and have different answers.\n",
    "\n",
    "**Quick Check 2**\n",
    "\n",
    "Subset the data so we only get rows in which (1) the participant has NOT lived with a cat, and (2) the participant was NOT aware of the experiment/exercise. Save this to the variable `focus_anchor`.\n",
    "\n",
    "Only use 1 line of code to do this - a hint is that you should use the & (and) or | (or) operators when you do the comparison.\n",
    "\n",
    "**Copy paste the code cell below into Quick Check 2 on Ed once you think you have the answer.**"
   ]
  },
  {
   "cell_type": "code",
   "execution_count": 3,
   "metadata": {},
   "outputs": [
    {
     "data": {
      "text/html": [
       "<table>\n",
       "<thead><tr><th scope=col>cat</th><th scope=col>before</th><th scope=col>live.cats</th><th scope=col>cond</th></tr></thead>\n",
       "<tbody>\n",
       "\t<tr><td> 2</td><td>0 </td><td>0 </td><td>0 </td></tr>\n",
       "\t<tr><td> 1</td><td>0 </td><td>0 </td><td>1 </td></tr>\n",
       "\t<tr><td>30</td><td>0 </td><td>0 </td><td>1 </td></tr>\n",
       "\t<tr><td>25</td><td>0 </td><td>0 </td><td>1 </td></tr>\n",
       "\t<tr><td>17</td><td>0 </td><td>0 </td><td>0 </td></tr>\n",
       "\t<tr><td>50</td><td>0 </td><td>0 </td><td>1 </td></tr>\n",
       "</tbody>\n",
       "</table>\n"
      ],
      "text/latex": [
       "\\begin{tabular}{r|llll}\n",
       " cat & before & live.cats & cond\\\\\n",
       "\\hline\n",
       "\t  2 & 0  & 0  & 0 \\\\\n",
       "\t  1 & 0  & 0  & 1 \\\\\n",
       "\t 30 & 0  & 0  & 1 \\\\\n",
       "\t 25 & 0  & 0  & 1 \\\\\n",
       "\t 17 & 0  & 0  & 0 \\\\\n",
       "\t 50 & 0  & 0  & 1 \\\\\n",
       "\\end{tabular}\n"
      ],
      "text/markdown": [
       "\n",
       "| cat | before | live.cats | cond |\n",
       "|---|---|---|---|\n",
       "|  2 | 0  | 0  | 0  |\n",
       "|  1 | 0  | 0  | 1  |\n",
       "| 30 | 0  | 0  | 1  |\n",
       "| 25 | 0  | 0  | 1  |\n",
       "| 17 | 0  | 0  | 0  |\n",
       "| 50 | 0  | 0  | 1  |\n",
       "\n"
      ],
      "text/plain": [
       "  cat before live.cats cond\n",
       "1  2  0      0         0   \n",
       "2  1  0      0         1   \n",
       "3 30  0      0         1   \n",
       "4 25  0      0         1   \n",
       "5 17  0      0         0   \n",
       "6 50  0      0         1   "
      ]
     },
     "metadata": {},
     "output_type": "display_data"
    }
   ],
   "source": [
    "focus_anchor <- subset(anchor, live.cats == 0 & before == 0)\n",
    "head(focus_anchor)"
   ]
  },
  {
   "cell_type": "markdown",
   "metadata": {},
   "source": [
    "Now, let's compare the results!"
   ]
  },
  {
   "cell_type": "code",
   "execution_count": 5,
   "metadata": {},
   "outputs": [
    {
     "data": {
      "text/html": [
       "26.75"
      ],
      "text/latex": [
       "26.75"
      ],
      "text/markdown": [
       "26.75"
      ],
      "text/plain": [
       "[1] 26.75"
      ]
     },
     "metadata": {},
     "output_type": "display_data"
    },
    {
     "data": {
      "text/html": [
       "9.26190476190476"
      ],
      "text/latex": [
       "9.26190476190476"
      ],
      "text/markdown": [
       "9.26190476190476"
      ],
      "text/plain": [
       "[1] 9.261905"
      ]
     },
     "metadata": {},
     "output_type": "display_data"
    },
    {
     "data": {
      "text/html": [
       "-17.4880952380952"
      ],
      "text/latex": [
       "-17.4880952380952"
      ],
      "text/markdown": [
       "-17.4880952380952"
      ],
      "text/plain": [
       "[1] -17.4881"
      ]
     },
     "metadata": {},
     "output_type": "display_data"
    }
   ],
   "source": [
    "# What am I doing in this code below? Explain to your neighbor. \n",
    "\n",
    "high_focus <- subset(focus_anchor, cond == 1)\n",
    "low_focus <- subset(focus_anchor, cond == 0)\n",
    "\n",
    "mean(high_focus$cat) # What does this number mean?\n",
    "mean(low_focus$cat) # and this one?\n",
    "mean(low_focus$cat) - mean(high_focus$cat) # How about this? "
   ]
  },
  {
   "cell_type": "markdown",
   "metadata": {},
   "source": [
    "## Quick Demo: why randomization works (ignore the code, follow along)\n",
    "\n",
    "As we saw above, we know that there is some significant difference between students who were exposed to the \"high\" and \"low\" questions.\n",
    "\n",
    "In experimental design, we usually want to **randomize** (i.e. randomly assign the treatment/control groups) to our participants. This ensures that the groups are equal, and that we don't have other factors, like selection bias or omitted variables, that could affect our analysis.\n",
    "\n",
    "Let's see how this works with a more general example, and then let's do it with the data we used earlier.\n"
   ]
  },
  {
   "cell_type": "code",
   "execution_count": 9,
   "metadata": {},
   "outputs": [],
   "source": [
    "# Let's say we have a study of 50 medical patients, 25 of which are of the Male sex and 25 of the Female sex.\n",
    "sex_data <- data.frame(\"Sex\" = c(rep(\"F\", 25), rep(\"M\", 25)))"
   ]
  },
  {
   "cell_type": "code",
   "execution_count": 10,
   "metadata": {},
   "outputs": [
    {
     "data": {
      "text/plain": [
       "   \n",
       "    Control Treatment\n",
       "  F       0        25\n",
       "  M      25         0"
      ]
     },
     "metadata": {},
     "output_type": "display_data"
    }
   ],
   "source": [
    "# If I just assigned them to experimental (1-25) and treatment groups (26-50) in order, \n",
    "# this is what our groups would look like:\n",
    "sex_data$Group <- c(rep(\"Treatment\", 25), rep(\"Control\", 25))\n",
    "table(sex_data$Sex, sex_data$Group)"
   ]
  },
  {
   "cell_type": "code",
   "execution_count": 15,
   "metadata": {},
   "outputs": [
    {
     "data": {
      "text/plain": [
       "   \n",
       "    Control Treatment\n",
       "  F      12        13\n",
       "  M      13        12"
      ]
     },
     "metadata": {},
     "output_type": "display_data"
    }
   ],
   "source": [
    "# That's a problem! Instead, let's randomly assign the treatment and control.\n",
    "sex_data$random.group <- sample(sex_data$Group, replace = FALSE)\n",
    "table(sex_data$Sex, sex_data$random.group)"
   ]
  },
  {
   "cell_type": "markdown",
   "metadata": {},
   "source": [
    "That's a lot better of an experimental design-- **but why?** Discuss with your neighbor.\n",
    "\n",
    "Now, let's see this mathematically. Again, we know that the difference between people who saw the \"high\" condition versus people who saw the \"low\" condition was ~17 mph. What if we randomized the groups?"
   ]
  },
  {
   "cell_type": "code",
   "execution_count": 34,
   "metadata": {},
   "outputs": [
    {
     "data": {
      "text/html": [
       "<table>\n",
       "<thead><tr><th scope=col>cat</th><th scope=col>before</th><th scope=col>live.cats</th><th scope=col>cond</th><th scope=col>rand.cond</th></tr></thead>\n",
       "<tbody>\n",
       "\t<tr><td> 2</td><td>0 </td><td>0 </td><td>0 </td><td>1 </td></tr>\n",
       "\t<tr><td> 1</td><td>0 </td><td>0 </td><td>1 </td><td>1 </td></tr>\n",
       "\t<tr><td>30</td><td>0 </td><td>0 </td><td>1 </td><td>1 </td></tr>\n",
       "\t<tr><td>25</td><td>0 </td><td>0 </td><td>1 </td><td>0 </td></tr>\n",
       "\t<tr><td>17</td><td>0 </td><td>0 </td><td>0 </td><td>1 </td></tr>\n",
       "\t<tr><td>50</td><td>0 </td><td>0 </td><td>1 </td><td>0 </td></tr>\n",
       "</tbody>\n",
       "</table>\n"
      ],
      "text/latex": [
       "\\begin{tabular}{r|lllll}\n",
       " cat & before & live.cats & cond & rand.cond\\\\\n",
       "\\hline\n",
       "\t  2 & 0  & 0  & 0  & 1 \\\\\n",
       "\t  1 & 0  & 0  & 1  & 1 \\\\\n",
       "\t 30 & 0  & 0  & 1  & 1 \\\\\n",
       "\t 25 & 0  & 0  & 1  & 0 \\\\\n",
       "\t 17 & 0  & 0  & 0  & 1 \\\\\n",
       "\t 50 & 0  & 0  & 1  & 0 \\\\\n",
       "\\end{tabular}\n"
      ],
      "text/markdown": [
       "\n",
       "| cat | before | live.cats | cond | rand.cond |\n",
       "|---|---|---|---|---|\n",
       "|  2 | 0  | 0  | 0  | 1  |\n",
       "|  1 | 0  | 0  | 1  | 1  |\n",
       "| 30 | 0  | 0  | 1  | 1  |\n",
       "| 25 | 0  | 0  | 1  | 0  |\n",
       "| 17 | 0  | 0  | 0  | 1  |\n",
       "| 50 | 0  | 0  | 1  | 0  |\n",
       "\n"
      ],
      "text/plain": [
       "  cat before live.cats cond rand.cond\n",
       "1  2  0      0         0    1        \n",
       "2  1  0      0         1    1        \n",
       "3 30  0      0         1    1        \n",
       "4 25  0      0         1    0        \n",
       "5 17  0      0         0    1        \n",
       "6 50  0      0         1    0        "
      ]
     },
     "metadata": {},
     "output_type": "display_data"
    }
   ],
   "source": [
    "random_anchor <- focus_anchor\n",
    "random_anchor$rand.cond <- sample(random_anchor$cond, replace = FALSE)\n",
    "head(random_anchor)"
   ]
  },
  {
   "cell_type": "code",
   "execution_count": 35,
   "metadata": {},
   "outputs": [
    {
     "data": {
      "text/html": [
       "18.8541666666667"
      ],
      "text/latex": [
       "18.8541666666667"
      ],
      "text/markdown": [
       "18.8541666666667"
      ],
      "text/plain": [
       "[1] 18.85417"
      ]
     },
     "metadata": {},
     "output_type": "display_data"
    },
    {
     "data": {
      "text/html": [
       "18.2857142857143"
      ],
      "text/latex": [
       "18.2857142857143"
      ],
      "text/markdown": [
       "18.2857142857143"
      ],
      "text/plain": [
       "[1] 18.28571"
      ]
     },
     "metadata": {},
     "output_type": "display_data"
    },
    {
     "data": {
      "text/html": [
       "-0.568452380952383"
      ],
      "text/latex": [
       "-0.568452380952383"
      ],
      "text/markdown": [
       "-0.568452380952383"
      ],
      "text/plain": [
       "[1] -0.5684524"
      ]
     },
     "metadata": {},
     "output_type": "display_data"
    }
   ],
   "source": [
    "# Now, we're going to do the same calculation as above\n",
    "# but remember -- the labels are randomly shuffled\n",
    "# and in theory, the groups should now be equal (statistically/randomly -- not 100% the same)\n",
    "\n",
    "high_rand_focus <- subset(random_anchor, rand.cond == 1)\n",
    "low_rand_focus <- subset(random_anchor, rand.cond == 0)\n",
    "\n",
    "mean(high_rand_focus$cat) \n",
    "mean(low_rand_focus$cat) \n",
    "mean(low_rand_focus$cat) - mean(high_rand_focus$cat)  "
   ]
  },
  {
   "cell_type": "markdown",
   "metadata": {},
   "source": [
    "If the numbers above are very different, try re-running the above 2 cells again and see what happens!"
   ]
  },
  {
   "cell_type": "code",
   "execution_count": null,
   "metadata": {},
   "outputs": [],
   "source": []
  }
 ],
 "metadata": {
  "kernelspec": {
   "display_name": "R",
   "language": "R",
   "name": "ir"
  },
  "language_info": {
   "codemirror_mode": "r",
   "file_extension": ".r",
   "mimetype": "text/x-r-source",
   "name": "R",
   "pygments_lexer": "r",
   "version": "3.6.1"
  }
 },
 "nbformat": 4,
 "nbformat_minor": 4
}
